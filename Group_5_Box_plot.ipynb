{
  "cells": [
    {
      "cell_type": "markdown",
      "metadata": {
        "id": "view-in-github",
        "colab_type": "text"
      },
      "source": [
        "<a href=\"https://colab.research.google.com/github/yanikal/python-project/blob/main/Group_5_Box_plot.ipynb\" target=\"_parent\"><img src=\"https://colab.research.google.com/assets/colab-badge.svg\" alt=\"Open In Colab\"/></a>"
      ]
    },
    {
      "cell_type": "markdown",
      "id": "3cb91372",
      "metadata": {
        "id": "3cb91372"
      },
      "source": [
        "## Faculty Salary\n",
        "Differences in salaries between men and women at US colleges and universities are well documented.\n",
        "\n",
        "The variable names and description are given below:\n",
        "\n",
        "case = case number\n",
        "\n",
        "id = identification number for the faculty member\n",
        "\n",
        "sex = M (male) or F (female)\n",
        "\n",
        "deg = highest degree attained: PhD, Prof (professional degree, eg, \n",
        "medicine or law), or Other (Master's or Bachelor's degree)\n",
        "\n",
        "yrdeg = year highest degree attained\n",
        "\n",
        "field = Arts (Arts and Humanities), Prof (professional school, ie, \n",
        "Business, Law, Engineering or Public Affairs), or Other\n",
        "\n",
        "startyr = year in which the faculty member was hired (2 digits)\n",
        "\n",
        "year = year (2 digits)\n",
        "\n",
        "rank = rank of the faculty member in this year: Assist (Assistant), \n",
        "Assoc (Associate), or Full (Full)\n",
        "\n",
        "admin = indicator of whether the faculty member had administrative \n",
        "duties (eg, department chair) in this year: 1 (yes), or 0 (no)\n",
        "\n",
        "salary = monthly salary of the faculty member in this year in dollars\n"
      ]
    },
    {
      "cell_type": "code",
      "execution_count": null,
      "id": "b064f580",
      "metadata": {
        "scrolled": true,
        "id": "b064f580",
        "outputId": "14a38573-70b6-43f9-ca06-ffede2cd1c24"
      },
      "outputs": [
        {
          "data": {
            "text/html": [
              "<div>\n",
              "<style scoped>\n",
              "    .dataframe tbody tr th:only-of-type {\n",
              "        vertical-align: middle;\n",
              "    }\n",
              "\n",
              "    .dataframe tbody tr th {\n",
              "        vertical-align: top;\n",
              "    }\n",
              "\n",
              "    .dataframe thead th {\n",
              "        text-align: right;\n",
              "    }\n",
              "</style>\n",
              "<table border=\"1\" class=\"dataframe\">\n",
              "  <thead>\n",
              "    <tr style=\"text-align: right;\">\n",
              "      <th></th>\n",
              "      <th>case</th>\n",
              "      <th>id</th>\n",
              "      <th>gender</th>\n",
              "      <th>deg</th>\n",
              "      <th>yrdeg</th>\n",
              "      <th>field</th>\n",
              "      <th>startyr</th>\n",
              "      <th>year</th>\n",
              "      <th>rank</th>\n",
              "      <th>admin</th>\n",
              "      <th>salary</th>\n",
              "    </tr>\n",
              "  </thead>\n",
              "  <tbody>\n",
              "    <tr>\n",
              "      <th>0</th>\n",
              "      <td>1</td>\n",
              "      <td>1</td>\n",
              "      <td>F</td>\n",
              "      <td>Other</td>\n",
              "      <td>92</td>\n",
              "      <td>Other</td>\n",
              "      <td>95</td>\n",
              "      <td>95</td>\n",
              "      <td>Assist</td>\n",
              "      <td>0</td>\n",
              "      <td>6684.0</td>\n",
              "    </tr>\n",
              "    <tr>\n",
              "      <th>1</th>\n",
              "      <td>2</td>\n",
              "      <td>2</td>\n",
              "      <td>M</td>\n",
              "      <td>Other</td>\n",
              "      <td>91</td>\n",
              "      <td>Other</td>\n",
              "      <td>94</td>\n",
              "      <td>94</td>\n",
              "      <td>Assist</td>\n",
              "      <td>0</td>\n",
              "      <td>4743.0</td>\n",
              "    </tr>\n",
              "    <tr>\n",
              "      <th>2</th>\n",
              "      <td>3</td>\n",
              "      <td>2</td>\n",
              "      <td>M</td>\n",
              "      <td>Other</td>\n",
              "      <td>91</td>\n",
              "      <td>Other</td>\n",
              "      <td>94</td>\n",
              "      <td>95</td>\n",
              "      <td>Assist</td>\n",
              "      <td>0</td>\n",
              "      <td>4881.0</td>\n",
              "    </tr>\n",
              "    <tr>\n",
              "      <th>3</th>\n",
              "      <td>4</td>\n",
              "      <td>4</td>\n",
              "      <td>M</td>\n",
              "      <td>PhD</td>\n",
              "      <td>96</td>\n",
              "      <td>Other</td>\n",
              "      <td>95</td>\n",
              "      <td>95</td>\n",
              "      <td>Assist</td>\n",
              "      <td>0</td>\n",
              "      <td>4231.0</td>\n",
              "    </tr>\n",
              "    <tr>\n",
              "      <th>4</th>\n",
              "      <td>5</td>\n",
              "      <td>6</td>\n",
              "      <td>M</td>\n",
              "      <td>PhD</td>\n",
              "      <td>66</td>\n",
              "      <td>Other</td>\n",
              "      <td>91</td>\n",
              "      <td>91</td>\n",
              "      <td>Full</td>\n",
              "      <td>1</td>\n",
              "      <td>11182.0</td>\n",
              "    </tr>\n",
              "  </tbody>\n",
              "</table>\n",
              "</div>"
            ],
            "text/plain": [
              "   case  id gender    deg  yrdeg  field  startyr  year    rank  admin   salary\n",
              "0     1   1      F  Other     92  Other       95    95  Assist      0   6684.0\n",
              "1     2   2      M  Other     91  Other       94    94  Assist      0   4743.0\n",
              "2     3   2      M  Other     91  Other       94    95  Assist      0   4881.0\n",
              "3     4   4      M    PhD     96  Other       95    95  Assist      0   4231.0\n",
              "4     5   6      M    PhD     66  Other       91    91    Full      1  11182.0"
            ]
          },
          "execution_count": 1,
          "metadata": {},
          "output_type": "execute_result"
        }
      ],
      "source": [
        "import pandas as pd\n",
        "import matplotlib.pyplot as plt\n",
        "\n",
        "df = pd.read_csv('SalaryData.csv')\n",
        "df.head()"
      ]
    },
    {
      "cell_type": "code",
      "execution_count": null,
      "id": "2b4bd18e",
      "metadata": {
        "id": "2b4bd18e",
        "outputId": "0460420b-d21b-41a7-88e1-ce8f6be86e46"
      },
      "outputs": [
        {
          "data": {
            "text/plain": [
              "(19792, 11)"
            ]
          },
          "execution_count": 2,
          "metadata": {},
          "output_type": "execute_result"
        }
      ],
      "source": [
        "df.shape"
      ]
    },
    {
      "cell_type": "code",
      "execution_count": null,
      "id": "04776590",
      "metadata": {
        "id": "04776590",
        "outputId": "f180cf05-9fb5-42d2-f80e-0f201817b924"
      },
      "outputs": [
        {
          "data": {
            "text/plain": [
              "case       0\n",
              "id         0\n",
              "gender     0\n",
              "deg        0\n",
              "yrdeg      0\n",
              "field      0\n",
              "startyr    0\n",
              "year       0\n",
              "rank       4\n",
              "admin      0\n",
              "salary     0\n",
              "dtype: int64"
            ]
          },
          "execution_count": 3,
          "metadata": {},
          "output_type": "execute_result"
        }
      ],
      "source": [
        "df.isnull().sum()"
      ]
    },
    {
      "cell_type": "code",
      "execution_count": null,
      "id": "10b86a64",
      "metadata": {
        "id": "10b86a64"
      },
      "outputs": [],
      "source": [
        "df.dropna(inplace = True)"
      ]
    },
    {
      "cell_type": "code",
      "execution_count": null,
      "id": "e0b5a86f",
      "metadata": {
        "id": "e0b5a86f",
        "outputId": "29f0f48c-9cf8-4e97-e426-d23f322615d6"
      },
      "outputs": [
        {
          "data": {
            "text/plain": [
              "(19788, 11)"
            ]
          },
          "execution_count": 5,
          "metadata": {},
          "output_type": "execute_result"
        }
      ],
      "source": [
        "df.shape"
      ]
    },
    {
      "cell_type": "markdown",
      "id": "c8950cc0",
      "metadata": {
        "id": "c8950cc0"
      },
      "source": [
        "### 2. What is the use case of your plot? "
      ]
    },
    {
      "cell_type": "markdown",
      "id": "ecf1c4ce",
      "metadata": {
        "id": "ecf1c4ce"
      },
      "source": [
        "![image.png](attachment:image.png)"
      ]
    },
    {
      "cell_type": "code",
      "execution_count": null,
      "id": "709018fa",
      "metadata": {
        "id": "709018fa",
        "outputId": "66cd3142-cde4-4cfd-8f59-213642dc1f67"
      },
      "outputs": [
        {
          "data": {
            "text/html": [
              "<div>\n",
              "<style scoped>\n",
              "    .dataframe tbody tr th:only-of-type {\n",
              "        vertical-align: middle;\n",
              "    }\n",
              "\n",
              "    .dataframe tbody tr th {\n",
              "        vertical-align: top;\n",
              "    }\n",
              "\n",
              "    .dataframe thead th {\n",
              "        text-align: right;\n",
              "    }\n",
              "</style>\n",
              "<table border=\"1\" class=\"dataframe\">\n",
              "  <thead>\n",
              "    <tr style=\"text-align: right;\">\n",
              "      <th></th>\n",
              "      <th>gender</th>\n",
              "      <th>salary</th>\n",
              "    </tr>\n",
              "  </thead>\n",
              "  <tbody>\n",
              "    <tr>\n",
              "      <th>0</th>\n",
              "      <td>F</td>\n",
              "      <td>6684.0</td>\n",
              "    </tr>\n",
              "    <tr>\n",
              "      <th>164</th>\n",
              "      <td>F</td>\n",
              "      <td>4231.0</td>\n",
              "    </tr>\n",
              "    <tr>\n",
              "      <th>300</th>\n",
              "      <td>F</td>\n",
              "      <td>4112.0</td>\n",
              "    </tr>\n",
              "    <tr>\n",
              "      <th>301</th>\n",
              "      <td>F</td>\n",
              "      <td>4112.0</td>\n",
              "    </tr>\n",
              "    <tr>\n",
              "      <th>302</th>\n",
              "      <td>F</td>\n",
              "      <td>4292.0</td>\n",
              "    </tr>\n",
              "  </tbody>\n",
              "</table>\n",
              "</div>"
            ],
            "text/plain": [
              "    gender  salary\n",
              "0        F  6684.0\n",
              "164      F  4231.0\n",
              "300      F  4112.0\n",
              "301      F  4112.0\n",
              "302      F  4292.0"
            ]
          },
          "execution_count": 6,
          "metadata": {},
          "output_type": "execute_result"
        }
      ],
      "source": [
        "gender_data = df.loc[:, ['gender','salary']]\n",
        "gender_f = gender_data.loc[gender_data['gender'] == 'F',:]\n",
        "gender_f\n",
        "\n",
        "gender_m = gender_data.loc[gender_data['gender'] == 'M',:]\n",
        "gender_m\n",
        "gender_f.head()"
      ]
    },
    {
      "cell_type": "code",
      "execution_count": null,
      "id": "6fe6526e",
      "metadata": {
        "id": "6fe6526e",
        "outputId": "0a75e79c-6d1d-4c5a-f0ae-94f65145dc5e"
      },
      "outputs": [
        {
          "data": {
            "image/png": "[encoded data removed]",
            "text/plain": [
              "<Figure size 1440x432 with 2 Axes>"
            ]
          },
          "metadata": {
            "needs_background": "light"
          },
          "output_type": "display_data"
        }
      ],
      "source": [
        "\n",
        "fig = plt.figure()\n",
        "\n",
        "ax0 = fig.add_subplot(1, 2, 1)\n",
        "ax1 = fig.add_subplot(1, 2, 2)\n",
        "\n",
        "# Subplot 1: Female data\n",
        "gender_f.plot(kind='box', color='blue', figsize=(20, 6), ax=ax0)\n",
        "ax0.set_title('Box Plot of Female data')\n",
        "\n",
        "# Subplot 2: Male data\n",
        "gender_m.plot(kind='box', color = 'orange', figsize=(20, 6), ax=ax1)\n",
        "ax1.set_title ('Box Plot of Male data')\n",
        "\n",
        "plt.show()"
      ]
    },
    {
      "cell_type": "markdown",
      "id": "99c0db17",
      "metadata": {
        "id": "99c0db17"
      },
      "source": [
        "### 3. What insight can be derived from this form of the chart?"
      ]
    },
    {
      "cell_type": "code",
      "execution_count": null,
      "id": "7fce04f8",
      "metadata": {
        "id": "7fce04f8",
        "outputId": "e9d4de82-46cb-4c91-c2dc-b0a3f8479252"
      },
      "outputs": [
        {
          "data": {
            "text/html": [
              "<div>\n",
              "<style scoped>\n",
              "    .dataframe tbody tr th:only-of-type {\n",
              "        vertical-align: middle;\n",
              "    }\n",
              "\n",
              "    .dataframe tbody tr th {\n",
              "        vertical-align: top;\n",
              "    }\n",
              "\n",
              "    .dataframe thead th {\n",
              "        text-align: right;\n",
              "    }\n",
              "</style>\n",
              "<table border=\"1\" class=\"dataframe\">\n",
              "  <thead>\n",
              "    <tr style=\"text-align: right;\">\n",
              "      <th></th>\n",
              "      <th>salary</th>\n",
              "    </tr>\n",
              "  </thead>\n",
              "  <tbody>\n",
              "    <tr>\n",
              "      <th>count</th>\n",
              "      <td>3926.000000</td>\n",
              "    </tr>\n",
              "    <tr>\n",
              "      <th>mean</th>\n",
              "      <td>4185.462274</td>\n",
              "    </tr>\n",
              "    <tr>\n",
              "      <th>std</th>\n",
              "      <td>1523.383725</td>\n",
              "    </tr>\n",
              "    <tr>\n",
              "      <th>min</th>\n",
              "      <td>1267.000000</td>\n",
              "    </tr>\n",
              "    <tr>\n",
              "      <th>25%</th>\n",
              "      <td>3152.750000</td>\n",
              "    </tr>\n",
              "    <tr>\n",
              "      <th>50%</th>\n",
              "      <td>3996.000000</td>\n",
              "    </tr>\n",
              "    <tr>\n",
              "      <th>75%</th>\n",
              "      <td>4951.000000</td>\n",
              "    </tr>\n",
              "    <tr>\n",
              "      <th>max</th>\n",
              "      <td>11036.000000</td>\n",
              "    </tr>\n",
              "  </tbody>\n",
              "</table>\n",
              "</div>"
            ],
            "text/plain": [
              "             salary\n",
              "count   3926.000000\n",
              "mean    4185.462274\n",
              "std     1523.383725\n",
              "min     1267.000000\n",
              "25%     3152.750000\n",
              "50%     3996.000000\n",
              "75%     4951.000000\n",
              "max    11036.000000"
            ]
          },
          "execution_count": 8,
          "metadata": {},
          "output_type": "execute_result"
        }
      ],
      "source": [
        "gender_f.describe()"
      ]
    },
    {
      "cell_type": "markdown",
      "id": "e8efe322",
      "metadata": {
        "id": "e8efe322"
      },
      "source": [
        "Note how the box plot differs from the summary table created. The box plot scans the data and identifies the outliers. In order to be an outlier, the data value must be:\n",
        "\n",
        "larger than Q3 by at least 1.5 times the interquartile range (IQR), or, <br>\n",
        "smaller than Q1 by at least 1.5 times the IQR.\n",
        "\n",
        "Let's look at female data as an example:\n",
        "\n",
        "Q1 (25%) = 3,152.75 <br>\n",
        "Q3 (75%) = 4,951 <br>\n",
        "IQR = Q3 - Q1 = 1,798.25\n",
        "Using the definition of outlier, any value that is greater than Q3 by 1.5 times IQR will be flagged as outlier.\n",
        "\n",
        "Outlier > 4,951 + (1.5 * 1,798.25) <br>\n",
        "Outlier > 7,648.38"
      ]
    },
    {
      "cell_type": "code",
      "execution_count": null,
      "id": "a97fee15",
      "metadata": {
        "id": "a97fee15",
        "outputId": "77fbee5b-e7b0-41d1-e1fa-89ca6731fdb8"
      },
      "outputs": [
        {
          "data": {
            "text/html": [
              "<div>\n",
              "<style scoped>\n",
              "    .dataframe tbody tr th:only-of-type {\n",
              "        vertical-align: middle;\n",
              "    }\n",
              "\n",
              "    .dataframe tbody tr th {\n",
              "        vertical-align: top;\n",
              "    }\n",
              "\n",
              "    .dataframe thead th {\n",
              "        text-align: right;\n",
              "    }\n",
              "</style>\n",
              "<table border=\"1\" class=\"dataframe\">\n",
              "  <thead>\n",
              "    <tr style=\"text-align: right;\">\n",
              "      <th></th>\n",
              "      <th>salary</th>\n",
              "    </tr>\n",
              "  </thead>\n",
              "  <tbody>\n",
              "    <tr>\n",
              "      <th>count</th>\n",
              "      <td>15862.000000</td>\n",
              "    </tr>\n",
              "    <tr>\n",
              "      <th>mean</th>\n",
              "      <td>4854.515502</td>\n",
              "    </tr>\n",
              "    <tr>\n",
              "      <th>std</th>\n",
              "      <td>2064.391049</td>\n",
              "    </tr>\n",
              "    <tr>\n",
              "      <th>min</th>\n",
              "      <td>1200.000000</td>\n",
              "    </tr>\n",
              "    <tr>\n",
              "      <th>25%</th>\n",
              "      <td>3322.000000</td>\n",
              "    </tr>\n",
              "    <tr>\n",
              "      <th>50%</th>\n",
              "      <td>4505.000000</td>\n",
              "    </tr>\n",
              "    <tr>\n",
              "      <th>75%</th>\n",
              "      <td>6040.000000</td>\n",
              "    </tr>\n",
              "    <tr>\n",
              "      <th>max</th>\n",
              "      <td>14464.000000</td>\n",
              "    </tr>\n",
              "  </tbody>\n",
              "</table>\n",
              "</div>"
            ],
            "text/plain": [
              "             salary\n",
              "count  15862.000000\n",
              "mean    4854.515502\n",
              "std     2064.391049\n",
              "min     1200.000000\n",
              "25%     3322.000000\n",
              "50%     4505.000000\n",
              "75%     6040.000000\n",
              "max    14464.000000"
            ]
          },
          "execution_count": 9,
          "metadata": {},
          "output_type": "execute_result"
        }
      ],
      "source": [
        "gender_m.describe()"
      ]
    },
    {
      "cell_type": "markdown",
      "id": "23e3837d",
      "metadata": {
        "id": "23e3837d"
      },
      "source": [
        "We can do the same for male data:\n",
        "\n",
        "Q1 (25%) = 3,322 <br>\n",
        "Q3 (75%) = 6,040 <br>\n",
        "IQR = Q3 - Q1 = 2,718\n",
        "Using the definition of outlier, any value that is greater than Q3 by 1.5 times IQR will be flagged as outlier.\n",
        "\n",
        "Outlier > 6,040 + (1.5 * 2,718) <br>\n",
        "Outlier > 10,117"
      ]
    },
    {
      "cell_type": "code",
      "execution_count": null,
      "id": "85ae4b7b",
      "metadata": {
        "id": "85ae4b7b"
      },
      "outputs": [],
      "source": []
    }
  ],
  "metadata": {
    "kernelspec": {
      "display_name": "Python 3 (ipykernel)",
      "language": "python",
      "name": "python3"
    },
    "language_info": {
      "codemirror_mode": {
        "name": "ipython",
        "version": 3
      },
      "file_extension": ".py",
      "mimetype": "text/x-python",
      "name": "python",
      "nbconvert_exporter": "python",
      "pygments_lexer": "ipython3",
      "version": "3.9.12"
    },
    "colab": {
      "provenance": [],
      "include_colab_link": true
    }
  },
  "nbformat": 4,
  "nbformat_minor": 5
}